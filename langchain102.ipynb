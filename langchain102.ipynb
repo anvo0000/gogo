{
 "cells": [
  {
   "cell_type": "markdown",
   "metadata": {},
   "source": [
    "### Langchain and Pinecode \n",
    "Index = rag-idx\n",
    "model = HuggingFace ('google/flan-t5-large)"
   ]
  },
  {
   "cell_type": "code",
   "execution_count": null,
   "metadata": {},
   "outputs": [],
   "source": [
    "%pip install langchain-pinecone pinecone-client langchainhub ctransformers transformers"
   ]
  },
  {
   "cell_type": "code",
   "execution_count": 3,
   "metadata": {},
   "outputs": [
    {
     "name": "stdout",
     "output_type": "stream",
     "text": [
      "18\n"
     ]
    }
   ],
   "source": [
    "from langchain_text_splitters import RecursiveCharacterTextSplitter\n",
    "from langchain.document_loaders import TextLoader\n",
    "\n",
    "loader = TextLoader(\"./text_data/mediumblog1.txt\")\n",
    "document = loader.load()\n",
    "spliter = RecursiveCharacterTextSplitter(chunk_size=1000, chunk_overlap=20) \n",
    "texts = spliter.split_documents(document)\n",
    "\n",
    "print (len(texts))"
   ]
  },
  {
   "cell_type": "code",
   "execution_count": 4,
   "metadata": {},
   "outputs": [
    {
     "data": {
      "text/plain": [
       "<langchain_pinecone.vectorstores.PineconeVectorStore at 0x3305f4130>"
      ]
     },
     "execution_count": 4,
     "metadata": {},
     "output_type": "execute_result"
    }
   ],
   "source": [
    "import os\n",
    "from dotenv import load_dotenv\n",
    "from langchain_huggingface import HuggingFaceEmbeddings\n",
    "from langchain_pinecone import PineconeVectorStore\n",
    "\n",
    "load_dotenv()\n",
    "fn_embeddings = HuggingFaceEmbeddings()\n",
    "\n",
    "PineconeVectorStore.from_documents(texts, \n",
    "                                   embedding=fn_embeddings,\n",
    "                                   index_name=os.environ[\"PINECONE_INDEX_NAME\"]\n",
    "                                   )"
   ]
  },
  {
   "cell_type": "code",
   "execution_count": 7,
   "metadata": {},
   "outputs": [],
   "source": [
    "from langchain_huggingface.llms import HuggingFacePipeline\n",
    "\n",
    "llm = HuggingFacePipeline.from_model_id(\n",
    "    model_id=\"gpt2\",\n",
    "    task=\"text-generation\",\n",
    "    pipeline_kwargs={\"max_new_tokens\": 100},\n",
    ")"
   ]
  },
  {
   "cell_type": "code",
   "execution_count": null,
   "metadata": {},
   "outputs": [],
   "source": [
    "from langchain.chains.retrieval import create_retrieval_chain\n",
    "from langchain.chains.combine_documents import create_stuff_documents_chain\n",
    "from langchain_huggingface import HuggingFaceEmbeddings\n",
    "from langchain_pinecone import PineconeVectorStore\n",
    "from langchain import hub\n",
    "\n",
    "load_dotenv()\n",
    "fn_embeddings = HuggingFaceEmbeddings()\n",
    "\n",
    "query = \"what is Semantic search?\"\n",
    "\n",
    "vectorstore = PineconeVectorStore(\n",
    "    index_name=os.environ[\"PINECONE_INDEX_NAME\"],\n",
    "    embedding=fn_embeddings\n",
    ")\n",
    "retrieval_qa_chat_prompt = hub.pull(\"langchain-ai/retrieval-qa-chat\")\n",
    "combine_docs_chain = create_stuff_documents_chain(llm, retrieval_qa_chat_prompt)\n",
    "\n",
    "retrieval_chain = create_retrieval_chain(\n",
    "    retriever=vectorstore.as_retriever(),\n",
    "    combine_docs_chain=combine_docs_chain \n",
    ")\n",
    "\n",
    "result = retrieval_chain.invoke(input={\"input\":query})\n"
   ]
  },
  {
   "cell_type": "code",
   "execution_count": null,
   "metadata": {},
   "outputs": [],
   "source": [
    "from langchain_core.prompts import PromptTemplate\n",
    "template = \"\"\"Use the following pieces of context to answer the question at the end.\n",
    "If you don't know, just say you don't know, don't try to make up an answer.\n",
    "Use 3 sentences maximum and keep the answer concise as possible. Every sentence fits in a line.\n",
    "Always say \"Thanks for asking!\" at the end of answer.\n",
    "{context}\n",
    "Question: {question}\n",
    "Helpful answer:\n",
    "\"\"\"\n",
    "\n",
    "custom_rag_prompt = PromptTemplate.from_template(template=template)"
   ]
  }
 ],
 "metadata": {
  "kernelspec": {
   "display_name": ".venv_langchain",
   "language": "python",
   "name": "python3"
  },
  "language_info": {
   "codemirror_mode": {
    "name": "ipython",
    "version": 3
   },
   "file_extension": ".py",
   "mimetype": "text/x-python",
   "name": "python",
   "nbconvert_exporter": "python",
   "pygments_lexer": "ipython3",
   "version": "3.9.6"
  }
 },
 "nbformat": 4,
 "nbformat_minor": 2
}
