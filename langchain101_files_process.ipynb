{
 "cells": [
  {
   "cell_type": "markdown",
   "metadata": {},
   "source": [
    "### 4. Loading Documents and RAG"
   ]
  },
  {
   "cell_type": "code",
   "execution_count": null,
   "metadata": {},
   "outputs": [],
   "source": [
    "%pip install chromadb tiktoken PyMuPDF langchain langchain-huggingface"
   ]
  },
  {
   "cell_type": "code",
   "execution_count": 1,
   "metadata": {},
   "outputs": [],
   "source": [
    "from langchain.document_loaders import PyMuPDFLoader,DirectoryLoader\n",
    "from langchain.text_splitter import RecursiveCharacterTextSplitter\n",
    "from langchain.embeddings import HuggingFaceEmbeddings"
   ]
  },
  {
   "cell_type": "code",
   "execution_count": 21,
   "metadata": {},
   "outputs": [
    {
     "name": "stdout",
     "output_type": "stream",
     "text": [
      "[Document(page_content='Chroma\\nchat\\nchat 817 online\\n817 online\\nStar\\nStar\\n14k\\n14k\\nFollow @trychroma\\nFollow @trychroma\\n🔍 Troubleshooting\\nThis page is a list of common gotchas or issues and how to fix them.\\nIf you don\\'t see your problem listed here, please also search the Github Issues.\\nUsing .get or .query, embeddings say None\\nThis is actually not an error. Embeddings are quite large and heavy to send back. Most\\napplication don\\'t use the underlying embeddings and so, by default, chroma does not\\nsend them back.\\nTo send them back: add include=[\"embeddings\", \"documents\", \"metadatas\", \"distances\"]\\nto your query to return all information.\\nFor example:\\nBuild error when running pip install chromadb\\nIf you encounter an error like this during setup\\nMenu\\npython\\n1\\nresults = collection.query(\\n2\\n    query_texts=\"hello\",\\n3\\n    n_results=1,\\n4\\n    include=[\"embeddings\", \"documents\", \"metadatas\", \"distances\"],\\n5\\n)\\nCopy Code\\nWe may change None  to something else to more clearly communicate why they were not\\nreturned.\\n7/16/24, 3:16 PM\\n🔍 Troubleshooting | Chroma Docs\\nhttps://docs.trychroma.com/troubleshooting\\n1/3\\n', metadata={'source': '_data/Troubleshooting _ Chroma Docs.pdf', 'file_path': '_data/Troubleshooting _ Chroma Docs.pdf', 'page': 0, 'total_pages': 3, 'format': 'PDF 1.4', 'title': '🔍 Troubleshooting | Chroma Docs', 'author': '', 'subject': '', 'keywords': '', 'creator': 'Mozilla/5.0 (Macintosh; Intel Mac OS X 10_15_7) AppleWebKit/537.36 (KHTML, like Gecko) Chrome/126.0.0.0 Safari/537.36', 'producer': 'Skia/PDF m126', 'creationDate': \"D:20240716081655+00'00'\", 'modDate': \"D:20240716081655+00'00'\", 'trapped': ''}), Document(page_content=\"Try these few tips from the community:\\nIf you get the error: clang: error: the clang compiler does not support '-\\nmarch=native' , set this ENV variable, export HNSWLIB_NO_NATIVE=1\\nIf on Mac, install/update xcode dev tools, xcode-select --install\\nIf on Windows, try these steps\\nSQLite\\nChroma requires SQLite > 3.35, if you encounter issues with having too low of a SQLite\\nversion please try the following.\\nInstall the latest version of Python 3.10, sometimes lower versions of python are\\nbundled with older versions of SQLite.\\nIf you are on a Linux system, you can install pysqlite3-binary, pip install\\npysqlite3-binary  and then override the default sqlite3 library before running\\nChroma with the steps here. Alternatively you can compile SQLite from scratch and\\nreplace the library in your python installation with the latest version as documented\\nhere.\\nIf you are on Windows, you can manually download the latest version of SQLite from\\nhttps://www.sqlite.org/download.html and replace the DLL in your python\\ninstallation's DLLs folder with the latest version. You can find your python\\ninstallation path by running os.path.dirname(sys.executable)  in python.\\nIf you are using a Debian based Docker container, older Debian versions do not have\\nan up to date SQLite, please use bookworm  or higher.\\nIllegal instruction (core dumped)\\nIf you encounter an error like this during setup and are using Docker - you may have built\\nthe library on a machine with a different CPU architecture than the one you are running it\\non. Try rebuilding the Docker image on the machine you are running it on.\\nplaintext\\n1\\nFailed to build hnswlib\\n2\\nERROR: Could not build wheels for hnswlib, which is required to install pyp\\nCopy Code\\n7/16/24, 3:16 PM\\n🔍 Troubleshooting | Chroma Docs\\nhttps://docs.trychroma.com/troubleshooting\\n2/3\\n\", metadata={'source': '_data/Troubleshooting _ Chroma Docs.pdf', 'file_path': '_data/Troubleshooting _ Chroma Docs.pdf', 'page': 1, 'total_pages': 3, 'format': 'PDF 1.4', 'title': '🔍 Troubleshooting | Chroma Docs', 'author': '', 'subject': '', 'keywords': '', 'creator': 'Mozilla/5.0 (Macintosh; Intel Mac OS X 10_15_7) AppleWebKit/537.36 (KHTML, like Gecko) Chrome/126.0.0.0 Safari/537.36', 'producer': 'Skia/PDF m126', 'creationDate': \"D:20240716081655+00'00'\", 'modDate': \"D:20240716081655+00'00'\", 'trapped': ''}), Document(page_content='Edit this page on GitHub\\n7/16/24, 3:16 PM\\n🔍 Troubleshooting | Chroma Docs\\nhttps://docs.trychroma.com/troubleshooting\\n3/3\\n', metadata={'source': '_data/Troubleshooting _ Chroma Docs.pdf', 'file_path': '_data/Troubleshooting _ Chroma Docs.pdf', 'page': 2, 'total_pages': 3, 'format': 'PDF 1.4', 'title': '🔍 Troubleshooting | Chroma Docs', 'author': '', 'subject': '', 'keywords': '', 'creator': 'Mozilla/5.0 (Macintosh; Intel Mac OS X 10_15_7) AppleWebKit/537.36 (KHTML, like Gecko) Chrome/126.0.0.0 Safari/537.36', 'producer': 'Skia/PDF m126', 'creationDate': \"D:20240716081655+00'00'\", 'modDate': \"D:20240716081655+00'00'\", 'trapped': ''})]\n"
     ]
    }
   ],
   "source": [
    "# load document\n",
    "def load_file(file_path):\n",
    "  pdf_loader = PyMuPDFLoader(file_path)\n",
    "  document = pdf_loader.load()\n",
    "  return document\n",
    "\n",
    "document = load_file(\"_data/Troubleshooting _ Chroma Docs.pdf\")\n",
    "print(document)"
   ]
  },
  {
   "cell_type": "code",
   "execution_count": 22,
   "metadata": {},
   "outputs": [
    {
     "name": "stdout",
     "output_type": "stream",
     "text": [
      "5\n",
      "page_content='Edit this page on GitHub\\n7/16/24, 3:16 PM\\n🔍 Troubleshooting | Chroma Docs\\nhttps://docs.trychroma.com/troubleshooting\\n3/3' metadata={'source': '_data/Troubleshooting _ Chroma Docs.pdf', 'file_path': '_data/Troubleshooting _ Chroma Docs.pdf', 'page': 2, 'total_pages': 3, 'format': 'PDF 1.4', 'title': '🔍 Troubleshooting | Chroma Docs', 'author': '', 'subject': '', 'keywords': '', 'creator': 'Mozilla/5.0 (Macintosh; Intel Mac OS X 10_15_7) AppleWebKit/537.36 (KHTML, like Gecko) Chrome/126.0.0.0 Safari/537.36', 'producer': 'Skia/PDF m126', 'creationDate': \"D:20240716081655+00'00'\", 'modDate': \"D:20240716081655+00'00'\", 'trapped': ''}\n"
     ]
    }
   ],
   "source": [
    "#split into small chunks\n",
    "# \\n\\n, \\n\n",
    "def chunking_document(document):\n",
    "  text_splitter = RecursiveCharacterTextSplitter(chunk_size=1000, chunk_overlap=20)\n",
    "  texts = text_splitter.split_documents(document)\n",
    "  return texts\n",
    "\n",
    "texts = chunking_document(document)\n",
    "print(len(texts))\n",
    "print(texts[len(texts)-1])"
   ]
  },
  {
   "cell_type": "code",
   "execution_count": 24,
   "metadata": {},
   "outputs": [],
   "source": [
    "from langchain import HuggingFaceHub\n",
    "\n",
    "model_name = \"google/flan-t5-large\"\n",
    "model_kwargs=({\"temperature\":0,\n",
    "              \"max_length\": 100})\n",
    "llm = HuggingFaceHub(repo_id=model_name, model_kwargs=model_kwargs)"
   ]
  },
  {
   "cell_type": "code",
   "execution_count": 45,
   "metadata": {},
   "outputs": [],
   "source": [
    "### Persisted ChromaDB to disk\n",
    "\n",
    "from langchain.chains import RetrievalQA\n",
    "from langchain.vectorstores import Chroma\n",
    "\n",
    "#instantiate the Chroma object from langchain, using Hugging embedding\n",
    "#DB name = chromadb_langchain101\n",
    "persists_directory = \"./db/chromadb_langchain101\" \n",
    "embeddings = HuggingFaceEmbeddings()\n",
    "\n",
    "# Save to disk\n",
    "vectordb = Chroma.from_documents(\n",
    "    documents=texts,\n",
    "    embedding=embeddings,\n",
    "    collection_name=\"langchain101\",\n",
    "    persist_directory=persists_directory\n",
    ")\n",
    "\n",
    "#query from Chroma object\n",
    "chain = RetrievalQA.from_chain_type(llm, retriever=vectordb.as_retriever())\n",
    "# retriever = vectordb.as_retriever()"
   ]
  },
  {
   "cell_type": "markdown",
   "metadata": {},
   "source": [
    "### Check file_name existed in processed.csv"
   ]
  },
  {
   "cell_type": "code",
   "execution_count": 114,
   "metadata": {},
   "outputs": [],
   "source": [
    "import os\n",
    "import pandas as pd\n",
    "from datetime import datetime\n",
    "\n",
    "# Define paths and load processed file\n",
    "data_path = \"./_data/\"\n",
    "processed_file = \"processed.csv\"\n",
    "\n",
    "# Load the processed.csv file, creating it if it doesn't exist\n",
    "if os.path.exists(processed_file):\n",
    "    processed_df = pd.read_csv(processed_file)\n",
    "else:\n",
    "    processed_df = pd.DataFrame(columns=[\"file_name\", \"processed_date\"])\n",
    "\n",
    "# Get the list of all PDF files in the data directory\n",
    "all_files = [f for f in os.listdir(data_path) if f.endswith('.pdf')]\n",
    "\n",
    "# Find the new files by comparing with the processed_df\n",
    "processed_files = set(processed_df[\"file_name\"].tolist())\n",
    "new_files = [f for f in all_files if f not in processed_files]\n"
   ]
  },
  {
   "cell_type": "code",
   "execution_count": 109,
   "metadata": {},
   "outputs": [
    {
     "name": "stdout",
     "output_type": "stream",
     "text": [
      "Troubleshooting _ Chroma Docs.pdf\n",
      "pandas.DataFrame.to_csv — pandas 2.2.2 documentation.pdf\n",
      "instructor.pdf\n",
      "Usage Guide _ Chroma Docs.pdf\n"
     ]
    }
   ],
   "source": [
    "# Process each new file\n",
    "\n",
    "for new_file in new_files:\n",
    "    # Here, you would add your PDF processing code using PyMuPDFLoader or any other processing\n",
    "    # For example:\n",
    "    # pdf_loader = PyMuPDFLoader(os.path.join(data_path, new_file))\n",
    "    # pdf_loader.process()\n",
    " \n",
    "    row = {\n",
    "        \"file_name\": [new_file],\n",
    "        \"processed_date\": [datetime.now().strftime(\"%Y-%m-%d %H:%M:%S\")]\n",
    "           }\n",
    "    df1 = pd.DataFrame(row)\n",
    "    processed_df = pd.concat([processed_df, df1], ignore_index=True)\n",
    "    # Log the processed file\n",
    "    # processed_df = processed_df.concat({\n",
    "    #     \"file_name\": new_file,\n",
    "    #     \"processed_date\": datetime.now().strftime(\"%Y-%m-%d %H:%M:%S\")\n",
    "    # }, ignore_index=True)\n",
    "# print(processed_df)\n",
    "# Save the updated processed_df back to processed.csv\n",
    "processed_df.to_csv(processed_file, index=True)\n",
    "# print(processed_df)\n",
    "# print(f\"Processed and logged {len(new_files)} new files.\")"
   ]
  },
  {
   "cell_type": "code",
   "execution_count": 113,
   "metadata": {},
   "outputs": [
    {
     "data": {
      "text/html": [
       "<div>\n",
       "<style scoped>\n",
       "    .dataframe tbody tr th:only-of-type {\n",
       "        vertical-align: middle;\n",
       "    }\n",
       "\n",
       "    .dataframe tbody tr th {\n",
       "        vertical-align: top;\n",
       "    }\n",
       "\n",
       "    .dataframe thead th {\n",
       "        text-align: right;\n",
       "    }\n",
       "</style>\n",
       "<table border=\"1\" class=\"dataframe\">\n",
       "  <thead>\n",
       "    <tr style=\"text-align: right;\">\n",
       "      <th></th>\n",
       "      <th>file_name</th>\n",
       "      <th>processed_date</th>\n",
       "    </tr>\n",
       "  </thead>\n",
       "  <tbody>\n",
       "    <tr>\n",
       "      <th>0</th>\n",
       "      <td>Troubleshooting _ Chroma Docs.pdf</td>\n",
       "      <td>2024-07-16 15:25:37</td>\n",
       "    </tr>\n",
       "    <tr>\n",
       "      <th>1</th>\n",
       "      <td>pandas.DataFrame.to_csv — pandas 2.2.2 documen...</td>\n",
       "      <td>2024-07-16 15:25:37</td>\n",
       "    </tr>\n",
       "    <tr>\n",
       "      <th>2</th>\n",
       "      <td>instructor.pdf</td>\n",
       "      <td>2024-07-16 15:25:37</td>\n",
       "    </tr>\n",
       "    <tr>\n",
       "      <th>3</th>\n",
       "      <td>Usage Guide _ Chroma Docs.pdf</td>\n",
       "      <td>2024-07-16 15:25:37</td>\n",
       "    </tr>\n",
       "  </tbody>\n",
       "</table>\n",
       "</div>"
      ],
      "text/plain": [
       "                                           file_name       processed_date\n",
       "0                  Troubleshooting _ Chroma Docs.pdf  2024-07-16 15:25:37\n",
       "1  pandas.DataFrame.to_csv — pandas 2.2.2 documen...  2024-07-16 15:25:37\n",
       "2                                     instructor.pdf  2024-07-16 15:25:37\n",
       "3                      Usage Guide _ Chroma Docs.pdf  2024-07-16 15:25:37"
      ]
     },
     "execution_count": 113,
     "metadata": {},
     "output_type": "execute_result"
    }
   ],
   "source": [
    "df = pd.read_csv(processed_file,index_col=0)\n",
    "df"
   ]
  }
 ],
 "metadata": {
  "kernelspec": {
   "display_name": ".venv",
   "language": "python",
   "name": "python3"
  },
  "language_info": {
   "codemirror_mode": {
    "name": "ipython",
    "version": 3
   },
   "file_extension": ".py",
   "mimetype": "text/x-python",
   "name": "python",
   "nbconvert_exporter": "python",
   "pygments_lexer": "ipython3",
   "version": "3.12.4"
  }
 },
 "nbformat": 4,
 "nbformat_minor": 2
}
