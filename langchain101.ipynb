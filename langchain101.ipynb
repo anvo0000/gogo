{
 "cells": [
  {
   "cell_type": "markdown",
   "metadata": {},
   "source": [
    "### 1. Langchain - HuggingFace (repo_id=\"google/flan-t5-large\") - Langchain Prompt Template"
   ]
  },
  {
   "cell_type": "code",
   "execution_count": null,
   "metadata": {},
   "outputs": [],
   "source": [
    "%pip install langchain langchain-huggingface"
   ]
  },
  {
   "cell_type": "code",
   "execution_count": 2,
   "metadata": {},
   "outputs": [],
   "source": [
    "from tqdm import tqdm\n",
    "from langchain import HuggingFaceHub\n",
    "\n",
    "model_name = \"google/flan-t5-large\"\n",
    "model_kwargs=({\"temperature\":2,\n",
    "              \"max_length\": 640})\n",
    "\n",
    "llm = HuggingFaceHub(repo_id=model_name, model_kwargs=model_kwargs)"
   ]
  },
  {
   "cell_type": "code",
   "execution_count": 4,
   "metadata": {},
   "outputs": [
    {
     "name": "stdout",
     "output_type": "stream",
     "text": [
      "{'company': 'blue sky', 'product': 'colorful pants', 'text': 'sailor'}\n",
      "sailor\n"
     ]
    }
   ],
   "source": [
    "from langchain import PromptTemplate\n",
    "from langchain.chains import LLMChain\n",
    "\n",
    "template = \"You are a naming consultant for new companies.\"\\\n",
    "\"What is a good name for a {company} that make {product}?\"\n",
    "prompt = PromptTemplate.from_template(template)\n",
    "\n",
    "chain = LLMChain(llm=llm, prompt=prompt)\n",
    "\n",
    "rs = chain.invoke({\n",
    "  \"company\":\"blue sky\",\n",
    "  \"product\":\"colorful pants\",\n",
    "  })\n",
    "print (rs)\n",
    "print (rs['text'])\n"
   ]
  },
  {
   "cell_type": "markdown",
   "metadata": {},
   "source": [
    "### 2. Simple Sequential Chains"
   ]
  },
  {
   "cell_type": "code",
   "execution_count": 17,
   "metadata": {},
   "outputs": [],
   "source": [
    "from langchain.chains import SimpleSequentialChain,LLMChain\n",
    "from langchain import HuggingFaceHub\n",
    "from langchain import PromptTemplate\n",
    "\n",
    "model_name = \"google/flan-t5-large\"\n",
    "model_kwargs=({\"temperature\":0,\n",
    "              \"max_length\": 100})\n",
    "llm = HuggingFaceHub(repo_id=model_name, model_kwargs=model_kwargs)"
   ]
  },
  {
   "cell_type": "code",
   "execution_count": 18,
   "metadata": {},
   "outputs": [
    {
     "name": "stdout",
     "output_type": "stream",
     "text": [
      "\n",
      "\n",
      "\u001b[1m> Entering new SimpleSequentialChain chain...\u001b[0m\n",
      "\u001b[36;1m\u001b[1;3mvegflora\u001b[0m\n",
      "\u001b[33;1m\u001b[1;3mvegflora is a company that makes plants\u001b[0m\n",
      "\n",
      "\u001b[1m> Finished chain.\u001b[0m\n",
      "{'input': {'Veggie Food'}, 'output': 'vegflora is a company that makes plants'}\n"
     ]
    }
   ],
   "source": [
    "template1 = \"What is a good name for a company that makes {product}?\"\n",
    "prompt1 = PromptTemplate.from_template(template1)\n",
    "chain1 = LLMChain(llm=llm, prompt=prompt1)\n",
    "\n",
    "template2 = \"Write a catch phrase for the company:{company}.\"\n",
    "prompt2 = PromptTemplate.from_template(template2)\n",
    "chain2 = LLMChain(llm=llm, prompt=prompt2)\n",
    "\n",
    "overall_chain = SimpleSequentialChain(chains=[chain1, chain2],verbose=True)  \n",
    "catch_phrase = overall_chain.invoke({\"Veggie Food\"})\n",
    "print(catch_phrase)"
   ]
  }
 ],
 "metadata": {
  "kernelspec": {
   "display_name": ".venv",
   "language": "python",
   "name": "python3"
  },
  "language_info": {
   "codemirror_mode": {
    "name": "ipython",
    "version": 3
   },
   "file_extension": ".py",
   "mimetype": "text/x-python",
   "name": "python",
   "nbconvert_exporter": "python",
   "pygments_lexer": "ipython3",
   "version": "3.12.4"
  }
 },
 "nbformat": 4,
 "nbformat_minor": 2
}
